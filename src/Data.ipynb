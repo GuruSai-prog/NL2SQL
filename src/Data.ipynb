{
 "cells": [
  {
   "cell_type": "code",
   "execution_count": 1,
   "id": "003acf93",
   "metadata": {},
   "outputs": [
    {
     "name": "stdout",
     "output_type": "stream",
     "text": [
      "Spider tables: ['author', 'cite', 'conference', 'domain', 'domain_author', 'domain_conference', 'domain_journal', 'domain_keyword', 'domain_publication', 'journal', 'keyword', 'organization', 'publication', 'publication_keyword', 'writes']\n",
      "Chinook tables: ['Album', 'Artist', 'Customer', 'Employee', 'Genre', 'Invoice', 'InvoiceLine', 'MediaType', 'Playlist', 'PlaylistTrack', 'Track']\n",
      "Northwind tables: ['Categories', 'CustomerCustomerDemo', 'CustomerDemographics', 'Customers', 'EmployeeTerritories', 'Employees', 'Order Details', 'Orders', 'Products', 'Regions', 'Shippers', 'Suppliers', 'Territories']\n"
     ]
    }
   ],
   "source": [
    "from sqlalchemy import create_engine, inspect\n",
    "\n",
    "for name, path in [(\"Spider\",\"D:/NL2SQL/data/spider_data/database/academic/academic.sqlite\"),\n",
    "                   (\"Chinook\",\"D:/NL2SQL/data/chinook/Chinook.sqlite\"),\n",
    "                   (\"Northwind\",\"D:/NL2SQL/data/northwind/northwind.db\")]:\n",
    "    engine = create_engine(f\"sqlite:///{path}\")\n",
    "    tables = inspect(engine).get_table_names()\n",
    "    print(f\"{name} tables:\", tables)\n"
   ]
  },
  {
   "cell_type": "code",
   "execution_count": null,
   "id": "f1c659fd",
   "metadata": {},
   "outputs": [],
   "source": []
  }
 ],
 "metadata": {
  "kernelspec": {
   "display_name": "nl2sql",
   "language": "python",
   "name": "python3"
  },
  "language_info": {
   "codemirror_mode": {
    "name": "ipython",
    "version": 3
   },
   "file_extension": ".py",
   "mimetype": "text/x-python",
   "name": "python",
   "nbconvert_exporter": "python",
   "pygments_lexer": "ipython3",
   "version": "3.10.18"
  }
 },
 "nbformat": 4,
 "nbformat_minor": 5
}
